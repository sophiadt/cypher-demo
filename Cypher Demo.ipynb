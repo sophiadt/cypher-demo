{
 "cells": [
  {
   "cell_type": "markdown",
   "id": "35baed86",
   "metadata": {},
   "source": [
    "## Refresh Graph"
   ]
  },
  {
   "cell_type": "code",
   "execution_count": 11,
   "id": "1dcba919",
   "metadata": {},
   "outputs": [
    {
     "name": "stdout",
     "output_type": "stream",
     "text": [
      "set notebook config to:\n",
      "{\n",
      "    \"host\": \"GRAPH_ID.us-west-2.neptune-graph.amazonaws.com\",\n",
      "    \"neptune_service\": \"neptune-graph\",\n",
      "    \"port\": 443,\n",
      "    \"proxy_host\": \"\",\n",
      "    \"proxy_port\": 8182,\n",
      "    \"auth_mode\": \"IAM\",\n",
      "    \"load_from_s3_arn\": \"\",\n",
      "    \"ssl\": true,\n",
      "    \"ssl_verify\": true,\n",
      "    \"aws_region\": \"us-west-2\",\n",
      "    \"sparql\": {\n",
      "        \"path\": \"\"\n",
      "    },\n",
      "    \"gremlin\": {\n",
      "        \"traversal_source\": \"g\",\n",
      "        \"username\": \"\",\n",
      "        \"password\": \"\",\n",
      "        \"message_serializer\": \"graphsonv3\",\n",
      "        \"connection_protocol\": \"http\"\n",
      "    },\n",
      "    \"neo4j\": {\n",
      "        \"username\": \"neo4j\",\n",
      "        \"password\": \"password\",\n",
      "        \"auth\": true,\n",
      "        \"database\": null\n",
      "    }\n",
      "}\n"
     ]
    },
    {
     "data": {
      "text/plain": [
       "<graph_notebook.configuration.generate_config.Configuration at 0x7f1d6c2027d0>"
      ]
     },
     "execution_count": 11,
     "metadata": {},
     "output_type": "execute_result"
    }
   ],
   "source": [
    "%%graph_notebook_config\n",
    "{\n",
    "  \"host\": \"GRAPH_ID.us-west-2.neptune-graph.amazonaws.com\",\n",
    "  \"neptune_service\": \"neptune-graph\",\n",
    "  \"port\": 443,\n",
    "  \"auth_mode\": \"IAM\",\n",
    "  \"load_from_s3_arn\": \"\",\n",
    "  \"ssl\": true,\n",
    "  \"ssl_verify\": true,\n",
    "  \"aws_region\": \"us-west-2\"\n",
    "}"
   ]
  },
  {
   "cell_type": "markdown",
   "id": "188994df",
   "metadata": {},
   "source": [
    "## Clear Graph"
   ]
  },
  {
   "cell_type": "code",
   "execution_count": 1,
   "id": "e9b745e8",
   "metadata": {},
   "outputs": [
    {
     "data": {
      "application/vnd.jupyter.widget-view+json": {
       "model_id": "caab628ef8864cbfa83ac7d72e75d383",
       "version_major": 2,
       "version_minor": 0
      },
      "text/plain": [
       "Tab(children=(Output(layout=Layout(max_height='600px', max_width='940px', overflow='scroll')), Output(layout=L…"
      ]
     },
     "metadata": {},
     "output_type": "display_data"
    }
   ],
   "source": [
    "%%oc\n",
    "MATCH(n)\n",
    "DETACH DELETE n"
   ]
  },
  {
   "cell_type": "markdown",
   "id": "9f987783",
   "metadata": {},
   "source": [
    "# Basic Relationships"
   ]
  },
  {
   "cell_type": "markdown",
   "id": "3d066b88",
   "metadata": {},
   "source": [
    "## Create Data (MCU)"
   ]
  },
  {
   "cell_type": "code",
   "execution_count": 2,
   "id": "deb57adb",
   "metadata": {},
   "outputs": [
    {
     "data": {
      "application/vnd.jupyter.widget-view+json": {
       "model_id": "5a54f04897f342ab88b97886de94359f",
       "version_major": 2,
       "version_minor": 0
      },
      "text/plain": [
       "Tab(children=(Output(layout=Layout(max_height='600px', max_width='940px', overflow='scroll')), Output(layout=L…"
      ]
     },
     "metadata": {},
     "output_type": "display_data"
    }
   ],
   "source": [
    "%%oc\n",
    "CREATE\n",
    "  (peter:Person {name: 'Peter Parker', identity: 'Spider-Man'}),\n",
    "  (tony:Person {name: 'Tony Stark', identity: 'Iron Man'}),\n",
    "  (steve:Person {name: 'Steve Rogers', identity: 'Captain America'}),\n",
    "  (natasha:Person {name: 'Natasha Romanov', identity: 'Black Widow'}),\n",
    "  (clint:Person {name: 'Clint Barton', identity: 'Hawkeye'}),\n",
    "  (thor:Person {name: 'Thor Odinson', identity: 'Thor'}),\n",
    "  (bruce:Person {name: 'Bruce Banner', identity: 'Hulk'}),\n",
    "  (wade:Person {name: 'Wade Wilson', identity: 'Deadpool'}),\n",
    "  (ned:Person {name: 'Ned Leeds', identity: 'Guy in the Chair'}),\n",
    "  (logan:Person {name: 'Logan', identity: 'Wolverine'}),\n",
    "  (mj:Person {name: 'Michelle Jones'}),\n",
    "  \n",
    "  (peter)-[:MENTEE]->(tony),\n",
    "  (peter)-[:KNOWS]->(steve),\n",
    "  (peter)-[:KNOWS]->(natasha),\n",
    "  (peter)-[:KNOWS]->(clint),\n",
    "  (peter)-[:KNOWS]->(thor),\n",
    "  (peter)-[:KNOWS]->(bruce),\n",
    "  (peter)-[:FRIENDS]->(wade),\n",
    "  (peter)-[:FRIENDS]->(ned),\n",
    "  (peter)-[:LOVES]->(mj),\n",
    "  \n",
    "  (tony)-[:MENTOR]->(peter),\n",
    "  (tony)-[:FRIENDS]->(steve),\n",
    "  (tony)-[:FRIENDS]->(natasha),\n",
    "  (tony)-[:FRIENDS]->(clint),\n",
    "  (tony)-[:FRIENDS]->(thor),\n",
    "  (tony)-[:FRIENDS]->(bruce),\n",
    "  (tony)-[:KNOWS]->(ned),\n",
    "  \n",
    "  (steve)-[:KNOWS]->(peter),\n",
    "  (steve)-[:FRIENDS]->(tony),\n",
    "  (steve)-[:FRIENDS]->(natasha),\n",
    "  (steve)-[:FRIENDS]->(clint),\n",
    "  (steve)-[:FRIENDS]->(thor),\n",
    "  (steve)-[:FRIENDS]->(bruce),\n",
    "  \n",
    "  (natasha)-[:KNOWS]->(peter),\n",
    "  (natasha)-[:FRIENDS]->(tony),\n",
    "  (natasha)-[:FRIENDS]->(steve),\n",
    "  (natasha)-[:FRIENDS]->(clint),\n",
    "  (natasha)-[:FRIENDS]->(thor),\n",
    "  (natasha)-[:FRIENDS]->(bruce),\n",
    "  \n",
    "  (clint)-[:KNOWS]->(peter),\n",
    "  (clint)-[:FRIENDS]->(tony),\n",
    "  (clint)-[:FRIENDS]->(steve),\n",
    "  (clint)-[:FRIENDS]->(natasha),\n",
    "  (clint)-[:FRIENDS]->(thor),\n",
    "  (clint)-[:FRIENDS]->(bruce),\n",
    "  \n",
    "  (thor)-[:KNOWS]->(peter),\n",
    "  (thor)-[:FRIENDS]->(tony),\n",
    "  (thor)-[:FRIENDS]->(steve),\n",
    "  (thor)-[:FRIENDS]->(natasha),\n",
    "  (thor)-[:FRIENDS]->(clint),\n",
    "  (thor)-[:FRIENDS]->(bruce),\n",
    "  \n",
    "  (bruce)-[:KNOWS]->(peter),\n",
    "  (bruce)-[:FRIENDS]->(tony),\n",
    "  (bruce)-[:FRIENDS]->(steve),\n",
    "  (bruce)-[:FRIENDS]->(natasha),\n",
    "  (bruce)-[:FRIENDS]->(clint),\n",
    "  (bruce)-[:FRIENDS]->(thor),\n",
    "  \n",
    "  (wade)-[:FRIENDS]->(peter),\n",
    "  (wade)-[:KNOWS]->(tony),\n",
    "  (wade)-[:KNOWS]->(steve),\n",
    "  (wade)-[:KNOWS]->(natasha),\n",
    "  (wade)-[:KNOWS]->(clint),\n",
    "  (wade)-[:KNOWS]->(thor),\n",
    "  (wade)-[:KNOWS]->(bruce),\n",
    "  (wade)-[:FRIENDS]->(logan),\n",
    "  \n",
    "  (ned)-[:FRIENDS]->(peter),\n",
    "  (ned)-[:KNOWS]->(tony),\n",
    "  (ned)-[:KNOWS]->(steve),\n",
    "  (ned)-[:KNOWS]->(natasha),\n",
    "  (ned)-[:KNOWS]->(clint),\n",
    "  (ned)-[:KNOWS]->(thor),\n",
    "  (ned)-[:KNOWS]->(bruce),\n",
    "  (ned)-[:FRIENDS]->(mj),\n",
    "  \n",
    "  (logan)-[:FRIENDS]->(wade),\n",
    "  \n",
    "  (mj)-[:LOVES]->(peter),\n",
    "  (mj)-[:FRIENDS]->(ned)"
   ]
  },
  {
   "cell_type": "markdown",
   "id": "ceb67e42",
   "metadata": {},
   "source": [
    "## Displays *A L L* Nodes & Edges"
   ]
  },
  {
   "cell_type": "code",
   "execution_count": 3,
   "id": "64f7d115",
   "metadata": {
    "scrolled": true
   },
   "outputs": [
    {
     "data": {
      "application/vnd.jupyter.widget-view+json": {
       "model_id": "5252dfac56e3414183c7c47426cf0c07",
       "version_major": 2,
       "version_minor": 0
      },
      "text/plain": [
       "Tab(children=(Output(layout=Layout(max_height='600px', max_width='940px', overflow='scroll')), Force(network=<…"
      ]
     },
     "metadata": {},
     "output_type": "display_data"
    }
   ],
   "source": [
    "%%oc\n",
    "MATCH (n1)-[e]->(n2)\n",
    "RETURN n1, e, n2"
   ]
  },
  {
   "cell_type": "markdown",
   "id": "01c16647",
   "metadata": {},
   "source": [
    "## Who's Friends of Spider-Man's Friends? [Exclusive]"
   ]
  },
  {
   "cell_type": "code",
   "execution_count": 4,
   "id": "db7ab4ff",
   "metadata": {},
   "outputs": [
    {
     "data": {
      "application/vnd.jupyter.widget-view+json": {
       "model_id": "e7edb317d5114e88b63584c3d5008b0a",
       "version_major": 2,
       "version_minor": 0
      },
      "text/plain": [
       "Tab(children=(Output(layout=Layout(max_height='600px', max_width='940px', overflow='scroll')), Force(network=<…"
      ]
     },
     "metadata": {},
     "output_type": "display_data"
    }
   ],
   "source": [
    "%%oc\n",
    "MATCH (s:Person {identity: 'Spider-Man'})\n",
    "MATCH (s)-[f:FRIENDS*2]-(moots:Person)\n",
    "WHERE NOT (s)-[:FRIENDS]-(moots) AND (s)<>(moots)\n",
    "RETURN s, f, moots"
   ]
  },
  {
   "cell_type": "markdown",
   "id": "ecb7665f",
   "metadata": {},
   "source": [
    "## Who Knows Captain America?"
   ]
  },
  {
   "cell_type": "code",
   "execution_count": 5,
   "id": "26fbc584",
   "metadata": {},
   "outputs": [
    {
     "data": {
      "application/vnd.jupyter.widget-view+json": {
       "model_id": "e0564cc9ea00460ebe4d4b3fc7aac97e",
       "version_major": 2,
       "version_minor": 0
      },
      "text/plain": [
       "Tab(children=(Output(layout=Layout(max_height='600px', max_width='940px', overflow='scroll')), Force(network=<…"
      ]
     },
     "metadata": {},
     "output_type": "display_data"
    }
   ],
   "source": [
    "%%oc\n",
    "MATCH (cap:Person {identity: 'Captain America'})-[k:KNOWS]-(p:Person)\n",
    "RETURN cap, k, p"
   ]
  },
  {
   "cell_type": "markdown",
   "id": "d2de0d86",
   "metadata": {},
   "source": [
    "## Clear Graph"
   ]
  },
  {
   "cell_type": "code",
   "execution_count": 6,
   "id": "fe60f31c",
   "metadata": {},
   "outputs": [
    {
     "data": {
      "application/vnd.jupyter.widget-view+json": {
       "model_id": "cdfe7bd5d2f94567bd5ecb604057af97",
       "version_major": 2,
       "version_minor": 0
      },
      "text/plain": [
       "Tab(children=(Output(layout=Layout(max_height='600px', max_width='940px', overflow='scroll')), Output(layout=L…"
      ]
     },
     "metadata": {},
     "output_type": "display_data"
    }
   ],
   "source": [
    "%%oc\n",
    "MATCH(n)\n",
    "DETACH DELETE n"
   ]
  },
  {
   "cell_type": "markdown",
   "id": "163ff30b",
   "metadata": {},
   "source": [
    "# Hierarchies and Trees"
   ]
  },
  {
   "cell_type": "markdown",
   "id": "c88166db",
   "metadata": {},
   "source": [
    "## Create Data (DC)"
   ]
  },
  {
   "cell_type": "code",
   "execution_count": 7,
   "id": "ac991c29",
   "metadata": {},
   "outputs": [
    {
     "data": {
      "application/vnd.jupyter.widget-view+json": {
       "model_id": "9fd826d281e1449fb8323a3aedc2269c",
       "version_major": 2,
       "version_minor": 0
      },
      "text/plain": [
       "Tab(children=(Output(layout=Layout(max_height='600px', max_width='940px', overflow='scroll')), Output(layout=L…"
      ]
     },
     "metadata": {},
     "output_type": "display_data"
    }
   ],
   "source": [
    "%%oc\n",
    "CREATE\n",
    "  (bruce:Person {name: 'Bruce Wayne', identity: 'Batman'}),\n",
    "  (dick:Person {name: 'Dick Grayson', identity: 'Nightwing'}),\n",
    "  (jason:Person {name: 'Jason Todd', identity: 'Red Hood'}),\n",
    "  (tim:Person {name: 'Tim Drake', identity: 'Red Robin'}),\n",
    "  (stephanie:Person {name: 'Stephanie Brown', identity: 'Spoiler'}),\n",
    "  (damian:Person {name: 'Damian Wayne', identity: 'Robin'}),\n",
    "  (alfred:Person {name: 'Alfred Pennyworth', identity: 'Alfred'}),\n",
    "  (jarvis:Person {name: 'Jarvis Pennyworth', identity: 'Jarvis'}),\n",
    "  (ra:Person {name: \"Ra's al Ghul\", identity: \"Ra's al Ghul\"}),\n",
    "  (talia:Person {name: 'Talia al Ghul', identity: 'Talia al Ghul'}),\n",
    "  (clark:Person {name: 'Clark Kent', identity: 'Superman'}),\n",
    "  (jon:Person {name: 'Jon Kent', identity: 'Superboy'}),\n",
    "  (cas:Person {name: 'Cassandra Cain', identity: 'Orphan'}),\n",
    "  (david:Person {name: 'David Cain', identity: 'Cain'}),\n",
    "  (babs:Person {name: 'Barbara Gordan', identity: 'Batgirl'}),\n",
    "  (jim:Person {name: 'Jim Gordan', identity: 'Commissioner Gordon'}),\n",
    "  \n",
    "  (damian)-[:MENTEE]->(bruce),\n",
    "  (damian)-[:MENTEE]->(ra),\n",
    "  (damian)-[:MENTEE]->(talia),\n",
    "  (damian)-[:MENTEE]->(dick),\n",
    "  \n",
    "  (stephanie)-[:MENTEE]->(bruce),\n",
    "  (stephanie)-[:MENTEE]->(tim),\n",
    "  (stephanie)-[:MENTEE]->(cas),\n",
    "  \n",
    "  (tim)-[:MENTEE]->(bruce),\n",
    "  (tim)-[:MENTEE]->(dick),\n",
    "  (tim)-[:MENTOR]->(stephanie),\n",
    "  \n",
    "  (jason)-[:MENTEE]->(bruce),\n",
    "  (jason)-[:MENTEE]->(talia),\n",
    "  \n",
    "  (dick)-[:MENTEE]->(bruce),\n",
    "  (dick)-[:MENTEE]->(clark),\n",
    "  (dick)-[:MENTOR]->(tim),\n",
    "  (dick)-[:MENTOR]->(damian),\n",
    "  \n",
    "  (bruce)-[:MENTEE]->(alfred),\n",
    "  (bruce)-[:MENTOR]->(dick),\n",
    "  (bruce)-[:MENTOR]->(jason),\n",
    "  (bruce)-[:MENTOR]->(tim),\n",
    "  (bruce)-[:MENTOR]->(stephanie),\n",
    "  (bruce)-[:MENTOR]->(damian),\n",
    "  (bruce)-[:MENTOR]->(cas),\n",
    "  (bruce)-[:MENTOR]->(babs),\n",
    "  (bruce)-[:MENTEE]->(ra),\n",
    "  \n",
    "  (alfred)-[:MENTEE]->(jarvis),\n",
    "  (alfred)-[:MENTOR]->(bruce),\n",
    "  \n",
    "  (jarvis)-[:MENTOR]->(alfred),\n",
    "  \n",
    "  (ra)-[:MENTOR]->(talia),\n",
    "  (ra)-[:MENTOR]->(damian),\n",
    "  (ra)-[:MENTOR]->(bruce),\n",
    "  \n",
    "  (talia)-[:MENTEE]->(ra),\n",
    "  (talia)-[:MENTOR]->(damian),\n",
    "  (talia)-[:MENTOR]->(jason),\n",
    "  \n",
    "  (clark)-[:MENTOR]->(dick),\n",
    "  (clark)-[:MENTOR]->(jon),\n",
    "  \n",
    "  (jon)-[:MENTEE]->(clark),\n",
    "  \n",
    "  (cas)-[:MENTEE]->(babs),\n",
    "  (cas)-[:MENTEE]->(bruce),\n",
    "  (cas)-[:MENTEE]->(david),\n",
    "  (cas)-[:MENTOR]->(stephanie),\n",
    "  \n",
    "  (david)-[:MENTOR]->(cas),\n",
    "  \n",
    "  (babs)-[:MENTOR]->(cas),\n",
    "  (babs)-[:MENTEE]->(bruce),\n",
    "  (babs)-[:MENTEE]->(jim),\n",
    "  \n",
    "  (jim)-[:MENTOR]->(babs)"
   ]
  },
  {
   "cell_type": "markdown",
   "id": "f94134bd",
   "metadata": {},
   "source": [
    "## Displays *A L L* Nodes & Edges"
   ]
  },
  {
   "cell_type": "code",
   "execution_count": 8,
   "id": "5fe0d433",
   "metadata": {},
   "outputs": [
    {
     "data": {
      "application/vnd.jupyter.widget-view+json": {
       "model_id": "f4ce8cc26a044401add07878f68b0b7c",
       "version_major": 2,
       "version_minor": 0
      },
      "text/plain": [
       "Tab(children=(Output(layout=Layout(max_height='600px', max_width='940px', overflow='scroll')), Force(network=<…"
      ]
     },
     "metadata": {},
     "output_type": "display_data"
    }
   ],
   "source": [
    "%%oc\n",
    "MATCH (n1)-[e]->(n2)\n",
    "RETURN n1, e, n2"
   ]
  },
  {
   "cell_type": "markdown",
   "id": "c5a91f4c",
   "metadata": {},
   "source": [
    "## Who are Robin's Mentors, his Mentor's Mentors, and etc.?"
   ]
  },
  {
   "cell_type": "code",
   "execution_count": 9,
   "id": "545f0e2b",
   "metadata": {
    "scrolled": true
   },
   "outputs": [
    {
     "data": {
      "application/vnd.jupyter.widget-view+json": {
       "model_id": "9bde464856e84b4d8fcea3d3fc8c3700",
       "version_major": 2,
       "version_minor": 0
      },
      "text/plain": [
       "Tab(children=(Output(layout=Layout(max_height='600px', max_width='940px', overflow='scroll')), Force(network=<…"
      ]
     },
     "metadata": {},
     "output_type": "display_data"
    }
   ],
   "source": [
    "%%oc\n",
    "MATCH(p:Person {identity: 'Robin'})-[e:MENTEE*0..]->(m:Person)\n",
    "RETURN p, e, m"
   ]
  },
  {
   "cell_type": "markdown",
   "id": "9525bc3e",
   "metadata": {},
   "source": [
    "## Who did Alfred mentor and his mentees mentor, and etc.?"
   ]
  },
  {
   "cell_type": "code",
   "execution_count": 10,
   "id": "7899f745",
   "metadata": {},
   "outputs": [
    {
     "data": {
      "application/vnd.jupyter.widget-view+json": {
       "model_id": "db30320c1a2e47a7bcc9631fb16b798c",
       "version_major": 2,
       "version_minor": 0
      },
      "text/plain": [
       "Tab(children=(Output(layout=Layout(max_height='600px', max_width='940px', overflow='scroll')), Force(network=<…"
      ]
     },
     "metadata": {},
     "output_type": "display_data"
    }
   ],
   "source": [
    "%%oc\n",
    "MATCH(p:Person {name: 'Alfred Pennyworth'})-[e:MENTOR*0..]->(m:Person)\n",
    "RETURN p, e, m"
   ]
  },
  {
   "cell_type": "code",
   "execution_count": null,
   "id": "413a78eb",
   "metadata": {},
   "outputs": [],
   "source": []
  }
 ],
 "metadata": {
  "kernelspec": {
   "display_name": "Python 3",
   "language": "python",
   "name": "python3"
  },
  "language_info": {
   "codemirror_mode": {
    "name": "ipython",
    "version": 3
   },
   "file_extension": ".py",
   "mimetype": "text/x-python",
   "name": "python",
   "nbconvert_exporter": "python",
   "pygments_lexer": "ipython3",
   "version": "3.10.8"
  }
 },
 "nbformat": 4,
 "nbformat_minor": 5
}
